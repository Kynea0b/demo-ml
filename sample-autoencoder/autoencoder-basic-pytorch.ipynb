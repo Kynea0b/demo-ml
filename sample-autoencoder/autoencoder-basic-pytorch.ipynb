{
  "nbformat": 4,
  "nbformat_minor": 0,
  "metadata": {
    "colab": {
      "provenance": [],
      "toc_visible": true
    },
    "kernelspec": {
      "name": "python3",
      "display_name": "Python 3"
    },
    "language_info": {
      "name": "python"
    }
  },
  "cells": [
    {
      "cell_type": "markdown",
      "source": [
        "このノートでは、Autoencoderの基本概念を実装しています。Autoencoderは、入力画像の次元削減を行い、特徴量を覚えて、入力画像に近い画像を少ないデータで復元することができるモデルです。元々は次元削減するアイディアとして考案されました。\n",
        "\n",
        "Autoencoderは特徴から元の画像を復元できる性質は、異常検知に使用されます。"
      ],
      "metadata": {
        "id": "F0pYVIo-hHyk"
      }
    },
    {
      "cell_type": "markdown",
      "source": [
        "データセットの作成\n",
        "MNISTを使用"
      ],
      "metadata": {
        "id": "eowo0bqOfwqF"
      }
    },
    {
      "cell_type": "code",
      "execution_count": 1,
      "metadata": {
        "colab": {
          "base_uri": "https://localhost:8080/"
        },
        "id": "gUg5QQtocTB6",
        "outputId": "f5605d0f-416d-43aa-f3d5-5188902f0342"
      },
      "outputs": [
        {
          "output_type": "stream",
          "name": "stdout",
          "text": [
            "Downloading http://yann.lecun.com/exdb/mnist/train-images-idx3-ubyte.gz\n",
            "Failed to download (trying next):\n",
            "HTTP Error 403: Forbidden\n",
            "\n",
            "Downloading https://ossci-datasets.s3.amazonaws.com/mnist/train-images-idx3-ubyte.gz\n",
            "Downloading https://ossci-datasets.s3.amazonaws.com/mnist/train-images-idx3-ubyte.gz to MNIST/MNIST/raw/train-images-idx3-ubyte.gz\n"
          ]
        },
        {
          "output_type": "stream",
          "name": "stderr",
          "text": [
            "100%|██████████| 9912422/9912422 [00:09<00:00, 1087589.19it/s]\n"
          ]
        },
        {
          "output_type": "stream",
          "name": "stdout",
          "text": [
            "Extracting MNIST/MNIST/raw/train-images-idx3-ubyte.gz to MNIST/MNIST/raw\n",
            "\n",
            "Downloading http://yann.lecun.com/exdb/mnist/train-labels-idx1-ubyte.gz\n",
            "Failed to download (trying next):\n",
            "HTTP Error 403: Forbidden\n",
            "\n",
            "Downloading https://ossci-datasets.s3.amazonaws.com/mnist/train-labels-idx1-ubyte.gz\n",
            "Downloading https://ossci-datasets.s3.amazonaws.com/mnist/train-labels-idx1-ubyte.gz to MNIST/MNIST/raw/train-labels-idx1-ubyte.gz\n"
          ]
        },
        {
          "output_type": "stream",
          "name": "stderr",
          "text": [
            "100%|██████████| 28881/28881 [00:00<00:00, 160728.40it/s]\n"
          ]
        },
        {
          "output_type": "stream",
          "name": "stdout",
          "text": [
            "Extracting MNIST/MNIST/raw/train-labels-idx1-ubyte.gz to MNIST/MNIST/raw\n",
            "\n",
            "Downloading http://yann.lecun.com/exdb/mnist/t10k-images-idx3-ubyte.gz\n",
            "Failed to download (trying next):\n",
            "HTTP Error 403: Forbidden\n",
            "\n",
            "Downloading https://ossci-datasets.s3.amazonaws.com/mnist/t10k-images-idx3-ubyte.gz\n",
            "Downloading https://ossci-datasets.s3.amazonaws.com/mnist/t10k-images-idx3-ubyte.gz to MNIST/MNIST/raw/t10k-images-idx3-ubyte.gz\n"
          ]
        },
        {
          "output_type": "stream",
          "name": "stderr",
          "text": [
            "100%|██████████| 1648877/1648877 [00:01<00:00, 1297067.04it/s]\n"
          ]
        },
        {
          "output_type": "stream",
          "name": "stdout",
          "text": [
            "Extracting MNIST/MNIST/raw/t10k-images-idx3-ubyte.gz to MNIST/MNIST/raw\n",
            "\n",
            "Downloading http://yann.lecun.com/exdb/mnist/t10k-labels-idx1-ubyte.gz\n",
            "Failed to download (trying next):\n",
            "HTTP Error 403: Forbidden\n",
            "\n",
            "Downloading https://ossci-datasets.s3.amazonaws.com/mnist/t10k-labels-idx1-ubyte.gz\n",
            "Downloading https://ossci-datasets.s3.amazonaws.com/mnist/t10k-labels-idx1-ubyte.gz to MNIST/MNIST/raw/t10k-labels-idx1-ubyte.gz\n"
          ]
        },
        {
          "output_type": "stream",
          "name": "stderr",
          "text": [
            "100%|██████████| 4542/4542 [00:00<00:00, 3601234.17it/s]"
          ]
        },
        {
          "output_type": "stream",
          "name": "stdout",
          "text": [
            "Extracting MNIST/MNIST/raw/t10k-labels-idx1-ubyte.gz to MNIST/MNIST/raw\n",
            "\n"
          ]
        },
        {
          "output_type": "stream",
          "name": "stderr",
          "text": [
            "\n"
          ]
        }
      ],
      "source": [
        "import torch\n",
        "import torch.nn as nn\n",
        "import torchvision\n",
        "import torchvision.transforms as transforms\n",
        "from torch.utils.data import DataLoader\n",
        "\n",
        "# トランスフォームオブジェクトを生成\n",
        "transform = transforms.Compose(\n",
        "    [transforms.ToTensor(), # Tensorオブジェクトに変換\n",
        "     nn.Flatten()]) # データの形状を(28, 28)から784,)に変換\n",
        "\n",
        "# MNISTの訓練用データ\n",
        "mnist_train = torchvision.datasets.MNIST(\n",
        "    root='MNIST',\n",
        "    download=True, # ダウンロードを許可\n",
        "    train=True,    # 訓練データを指定\n",
        "    transform=transform) # トランスフォームオブジェクト\n",
        "\n",
        "# MNISTのテスト用データ\n",
        "mnist_test = torchvision.datasets.MNIST(\n",
        "    root='MNIST',\n",
        "    download=True, # ダウンロードを許可\n",
        "    train=False,   # テストデータを指定\n",
        "    transform=transform) # トランスフォームオブジェクト\n",
        "\n",
        "# データローダーを生成\n",
        "train_dataloader = DataLoader(mnist_train,    # 訓練データ\n",
        "                              batch_size=124, # ミニバッチのサイズ\n",
        "                              shuffle=True)   # 抽出時にシャッフル\n",
        "test_dataloader = DataLoader(mnist_test,     # テストデータ\n",
        "                              batch_size=1,  # テストなので1\n",
        "                              shuffle=False) # 抽出時にシャッフルしない\n"
      ]
    },
    {
      "cell_type": "markdown",
      "source": [],
      "metadata": {
        "id": "4yqviBmnhGTt"
      }
    },
    {
      "cell_type": "code",
      "source": [
        "import matplotlib.pyplot as plt\n",
        "\n",
        "_ = mnist_train[0]\n",
        "print(f'type:{type(_)}, data:{_[0].shape}, label:{_[1]}')\n",
        "print(f'最大値:{_[0].max()}, 最小値:{_[0].min()}')\n",
        "plt.imshow(_[0].reshape(28, 28), cmap='gray')"
      ],
      "metadata": {
        "colab": {
          "base_uri": "https://localhost:8080/",
          "height": 482
        },
        "id": "MX-XkB7TcuNg",
        "outputId": "b44df749-cd8c-4229-9e22-f9dbd58eb4e5"
      },
      "execution_count": 2,
      "outputs": [
        {
          "output_type": "stream",
          "name": "stdout",
          "text": [
            "type:<class 'tuple'>, data:torch.Size([1, 784]), label:5\n",
            "最大値:1.0, 最小値:0.0\n"
          ]
        },
        {
          "output_type": "execute_result",
          "data": {
            "text/plain": [
              "<matplotlib.image.AxesImage at 0x7a9f83e22e00>"
            ]
          },
          "metadata": {},
          "execution_count": 2
        },
        {
          "output_type": "display_data",
          "data": {
            "text/plain": [
              "<Figure size 640x480 with 1 Axes>"
            ],
            "image/png": "[encoded data removed]"
          },
          "metadata": {}
        }
      ]
    },
    {
      "cell_type": "markdown",
      "source": [
        "Autoencoder モデルの作成とパラメータを設定"
      ],
      "metadata": {
        "id": "VHkQf8A_fmbC"
      }
    },
    {
      "cell_type": "code",
      "source": [
        "class Autoencoder(nn.Module):\n",
        "    def __init__(self):\n",
        "        super().__init__()\n",
        "        self.l1 = nn.Linear(784, 200) # エンコーダー(200ユニット)\n",
        "        self.l2 = nn.Linear(200, 784) # デコーダー(784ユニット)\n",
        "\n",
        "    def forward(self, x):\n",
        "        h = self.l1(x)       # エンコーダーに入力\n",
        "        h = torch.relu(h)    # ReLU関数を適用\n",
        "\n",
        "        h = self.l2(h)       # デコーダーに入力\n",
        "        y = torch.sigmoid(h) # シグモイド関数を適用\n",
        "        return y\n",
        "\n",
        "\n",
        "device = torch.device('cuda' if torch.cuda.is_available() else 'cpu')\n",
        "print(device)\n",
        "\n",
        "import torch.optim as optimizers\n",
        "\n",
        "model = Autoencoder().to(device) # オートエンコーダーを生成\n",
        "criterion = nn.BCELoss() # 損失関数はバイナリクロスエントロピー誤差\n",
        "optimizer = optimizers.Adam(model.parameters()) # オプティマイザー（最適化関数）をAdamに設定\n"
      ],
      "metadata": {
        "colab": {
          "base_uri": "https://localhost:8080/"
        },
        "id": "Z50ZNsbUc0LU",
        "outputId": "d0c8df55-d6ab-44dc-d876-8d52ce8c92b5"
      },
      "execution_count": 5,
      "outputs": [
        {
          "output_type": "stream",
          "name": "stdout",
          "text": [
            "cpu\n"
          ]
        }
      ]
    },
    {
      "cell_type": "code",
      "source": [
        "epochs = 10 # エポック数\n",
        "\n",
        "# 学習の実行\n",
        "for epoch in range(epochs):\n",
        "    train_loss = 0.\n",
        "    # ミニバッチのループ(ステップ)\n",
        "    for (x, _) in train_dataloader:\n",
        "        x = x.to(device) # デバイスの割り当て\n",
        "        model.train()    # 訓練モードにする\n",
        "        preds = model(x) # モデルの出力を取得\n",
        "        loss = criterion(preds, x) # 入力xと復元predsの誤差を取得\n",
        "        optimizer.zero_grad()      # 勾配を0で初期化\n",
        "        loss.backward()  # 誤差の勾配を計算\n",
        "        optimizer.step() # パラメーターの更新\n",
        "        train_loss += loss.item() # 誤差(損失)の更新\n",
        "    # 1エポックあたりの損失を求める\n",
        "    train_loss /= len(train_dataloader)\n",
        "    # 1エポックごとに損失を出力\n",
        "    print('Epoch({}) -- Loss: {:.3f}'.format(\n",
        "        epoch+1,\n",
        "        train_loss\n",
        "    ))\n"
      ],
      "metadata": {
        "colab": {
          "base_uri": "https://localhost:8080/"
        },
        "id": "druJoQCPc6Tf",
        "outputId": "8b8bacba-9e43-4323-ffa9-bae2e3823985"
      },
      "execution_count": 6,
      "outputs": [
        {
          "output_type": "stream",
          "name": "stdout",
          "text": [
            "Epoch(1) -- Loss: 0.165\n",
            "Epoch(2) -- Loss: 0.090\n",
            "Epoch(3) -- Loss: 0.077\n",
            "Epoch(4) -- Loss: 0.072\n",
            "Epoch(5) -- Loss: 0.070\n",
            "Epoch(6) -- Loss: 0.069\n",
            "Epoch(7) -- Loss: 0.068\n",
            "Epoch(8) -- Loss: 0.067\n",
            "Epoch(9) -- Loss: 0.067\n",
            "Epoch(10) -- Loss: 0.066\n"
          ]
        }
      ]
    },
    {
      "cell_type": "markdown",
      "source": [
        "学習、推論の実行"
      ],
      "metadata": {
        "id": "mKcXLZuYfcLF"
      }
    },
    {
      "cell_type": "markdown",
      "source": [],
      "metadata": {
        "id": "2fEinkOJfvHE"
      }
    },
    {
      "cell_type": "code",
      "source": [
        "epochs = 10 # エポック数\n",
        "\n",
        "# 学習の実行\n",
        "for epoch in range(epochs):\n",
        "    train_loss = 0.\n",
        "    # ミニバッチのループ(ステップ)\n",
        "    for (x, _) in train_dataloader:\n",
        "        x = x.to(device) # デバイスの割り当て\n",
        "        model.train()    # 訓練モードにする\n",
        "        preds = model(x) # モデルの出力を取得\n",
        "        loss = criterion(preds, x) # 入力xと復元predsの誤差を取得\n",
        "        optimizer.zero_grad()      # 勾配を0で初期化\n",
        "        loss.backward()  # 誤差の勾配を計算\n",
        "        optimizer.step() # パラメーターの更新\n",
        "        train_loss += loss.item() # 誤差(損失)の更新\n",
        "    # 1エポックあたりの損失を求める\n",
        "    train_loss /= len(train_dataloader)\n",
        "    # 1エポックごとに損失を出力\n",
        "    print('Epoch({}) -- Loss: {:.3f}'.format(\n",
        "        epoch+1,\n",
        "        train_loss\n",
        "    ))"
      ],
      "metadata": {
        "colab": {
          "base_uri": "https://localhost:8080/"
        },
        "id": "aAJ-7jQrfe6E",
        "outputId": "db63ac9b-e1ba-4a1a-b2d2-138527e86bb4"
      },
      "execution_count": 7,
      "outputs": [
        {
          "output_type": "stream",
          "name": "stdout",
          "text": [
            "Epoch(1) -- Loss: 0.066\n",
            "Epoch(2) -- Loss: 0.066\n",
            "Epoch(3) -- Loss: 0.066\n",
            "Epoch(4) -- Loss: 0.065\n",
            "Epoch(5) -- Loss: 0.065\n",
            "Epoch(6) -- Loss: 0.065\n",
            "Epoch(7) -- Loss: 0.065\n",
            "Epoch(8) -- Loss: 0.065\n",
            "Epoch(9) -- Loss: 0.065\n",
            "Epoch(10) -- Loss: 0.065\n"
          ]
        }
      ]
    },
    {
      "cell_type": "markdown",
      "source": [
        "学習後、入力画像から出力画像を復元してみる"
      ],
      "metadata": {
        "id": "dxhxJ1OCgyLu"
      }
    },
    {
      "cell_type": "code",
      "source": [
        "import matplotlib.pyplot as plt\n",
        "\n",
        "# テストデータを1個取り出す\n",
        "_x, _ = next(iter(test_dataloader))\n",
        "_x = _x.to(device)\n",
        "\n",
        "model.eval() # ネットワークを評価モードにする\n",
        "x_rec = model(_x) # テストデータを入力して結果を取得\n",
        "\n",
        "# 入力画像、復元画像を表示\n",
        "titles = {0: 'Original', 1: 'Autoencoder:Epoch=10'}\n",
        "for i, image in enumerate([_x, x_rec]):\n",
        "    image = image.view(28, 28).detach().cpu().numpy()\n",
        "    plt.subplot(1, 2, i+1)\n",
        "    plt.imshow(image, cmap='binary_r')\n",
        "    plt.axis('off'), plt.title(titles[i])\n",
        "plt.show()"
      ],
      "metadata": {
        "colab": {
          "base_uri": "https://localhost:8080/",
          "height": 284
        },
        "id": "ri5L_RJZg_ic",
        "outputId": "07ee166d-b614-4470-c896-23a32e539f6b"
      },
      "execution_count": 8,
      "outputs": [
        {
          "output_type": "display_data",
          "data": {
            "text/plain": [
              "<Figure size 640x480 with 2 Axes>"
            ],
            "image/png": "[encoded data removed]"
          },
          "metadata": {}
        }
      ]
    }
  ]
}